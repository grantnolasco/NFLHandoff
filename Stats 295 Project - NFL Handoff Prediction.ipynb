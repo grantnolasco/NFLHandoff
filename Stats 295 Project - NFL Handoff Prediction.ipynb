{
 "cells": [
  {
   "cell_type": "markdown",
   "id": "bd891cb3",
   "metadata": {},
   "source": [
    "# Introduction"
   ]
  },
  {
   "cell_type": "markdown",
   "id": "38305fe7",
   "metadata": {},
   "source": [
    "##### Column Information\n",
    "\n",
    "Each row in the file corresponds to a single player's involvement in a single play. The dataset was intentionally joined (i.e. denormalized) to make the API simple. All the columns are contained in one large dataframe which is grouped and provided by PlayId.\n",
    "\n",
    "- GameId: a unique game identifier\n",
    "- PlayId: a unique play identifier\n",
    "- Team: home or away\n",
    "- X: player position along the long axis of the field. See figure below.\n",
    "- Y: player position along the short axis of the field. See figure below.\n",
    "- S: speed in yards/second\n",
    "- A: acceleration in yards/second^2\n",
    "- Dis: distance traveled from prior time point, in yards\n",
    "- Orientation: orientation of player (deg)\n",
    "- Dir: angle of player motion (deg)\n",
    "- NflId: a unique identifier of the player\n",
    "- DisplayName: player's name\n",
    "- JerseyNumber: jersey number\n",
    "- Season: year of the season\n",
    "- YardLine: the yard line of the line of scrimmage\n",
    "- Quarter: game quarter (1-5, 5 == overtime)\n",
    "- GameClock: time on the game clock\n",
    "- PossessionTeam: team with possession\n",
    "- Down: the down (1-4)\n",
    "- Distance: yards needed for a first down\n",
    "- FieldPosition: which side of the field the play is happening on\n",
    "- HomeScoreBeforePlay: home team score before play started\n",
    "- VisitorScoreBeforePlay: visitor team score before play started\n",
    "- NflIdRusher: the NflId of the rushing player\n",
    "- OffenseFormation: offense formation\n",
    "- OffensePersonnel: offensive team positional grouping\n",
    "- DefendersInTheBox: number of defenders lined up near the line of scrimmage, spanning the width of the offensive line\n",
    "- DefensePersonnel: defensive team positional grouping\n",
    "- PlayDirection: direction the play is headed\n",
    "- TimeHandoff: UTC time of the handoff\n",
    "- TimeSnap: UTC time of the snap\n",
    "- Yards: the yardage gained on the play (you are predicting this)\n",
    "- PlayerHeight: player height (ft-in)\n",
    "- PlayerWeight: player weight (lbs)\n",
    "- PlayerBirthDate: birth date (mm/dd/yyyy)\n",
    "- PlayerCollegeName: where the player attended college\n",
    "- Position: the player's position (the specific role on the field that they typically play)\n",
    "- HomeTeamAbbr: home team abbreviation\n",
    "- VisitorTeamAbbr: visitor team abbreviation\n",
    "- Week: week into the season\n",
    "- Stadium: stadium where the game is being played\n",
    "- Location: city where the game is being played\n",
    "- StadiumType: description of the stadium environment\n",
    "- Turf: description of the field surface\n",
    "- GameWeather: description of the game weather\n",
    "- Temperature: temperature (deg F)\n",
    "- Humidity: humidity\n",
    "- WindSpeed: wind speed in miles/hour\n",
    "- WindDirection: wind direction"
   ]
  },
  {
   "cell_type": "markdown",
   "id": "34921217",
   "metadata": {},
   "source": [
    "### Libraries"
   ]
  },
  {
   "cell_type": "code",
   "execution_count": 152,
   "id": "c99de837",
   "metadata": {},
   "outputs": [],
   "source": [
    "import pandas as pd\n",
    "import numpy as np\n",
    "import math\n",
    "import scipy\n",
    "import matplotlib.pyplot as plt\n",
    "import scipy.spatial\n",
    "from sklearn.ensemble import RandomForestRegressor\n",
    "from sklearn.preprocessing import LabelEncoder, StandardScaler\n",
    "from sklearn.model_selection import RandomizedSearchCV, GridSearchCV\n",
    "import sys\n",
    "from sklearn.impute import SimpleImputer\n",
    "from tensorflow.keras.layers import Dense,Input,Dropout, InputLayer\n",
    "from tensorflow.keras.models import Model, Sequential\n",
    "from tensorflow.keras.optimizers import Adam\n",
    "from keras.wrappers.scikit_learn import KerasClassifier\n",
    "import keras\n",
    "from tensorflow.keras.losses import categorical_crossentropy\n",
    "pd.set_option(\"display.max_columns\", None)"
   ]
  },
  {
   "cell_type": "markdown",
   "id": "5aaaae13",
   "metadata": {},
   "source": [
    "### Exploratory Analysis/Feature Engineering"
   ]
  },
  {
   "cell_type": "code",
   "execution_count": 217,
   "id": "003af4b1",
   "metadata": {
    "scrolled": true
   },
   "outputs": [
    {
     "name": "stderr",
     "output_type": "stream",
     "text": [
      "/Library/Frameworks/Python.framework/Versions/3.7/lib/python3.7/site-packages/IPython/core/interactiveshell.py:3170: DtypeWarning: Columns (47) have mixed types.Specify dtype option on import or set low_memory=False.\n",
      "  interactivity=interactivity, compiler=compiler, result=result)\n"
     ]
    }
   ],
   "source": [
    "train = pd.read_csv('train.csv')"
   ]
  },
  {
   "cell_type": "code",
   "execution_count": 218,
   "id": "c7031586",
   "metadata": {},
   "outputs": [
    {
     "data": {
      "text/plain": [
       "Index(['GameId', 'PlayId', 'Team', 'X', 'Y', 'S', 'A', 'Dis', 'Orientation',\n",
       "       'Dir', 'NflId', 'DisplayName', 'JerseyNumber', 'Season', 'YardLine',\n",
       "       'Quarter', 'GameClock', 'PossessionTeam', 'Down', 'Distance',\n",
       "       'FieldPosition', 'HomeScoreBeforePlay', 'VisitorScoreBeforePlay',\n",
       "       'NflIdRusher', 'OffenseFormation', 'OffensePersonnel',\n",
       "       'DefendersInTheBox', 'DefensePersonnel', 'PlayDirection', 'TimeHandoff',\n",
       "       'TimeSnap', 'Yards', 'PlayerHeight', 'PlayerWeight', 'PlayerBirthDate',\n",
       "       'PlayerCollegeName', 'Position', 'HomeTeamAbbr', 'VisitorTeamAbbr',\n",
       "       'Week', 'Stadium', 'Location', 'StadiumType', 'Turf', 'GameWeather',\n",
       "       'Temperature', 'Humidity', 'WindSpeed', 'WindDirection'],\n",
       "      dtype='object')"
      ]
     },
     "execution_count": 218,
     "metadata": {},
     "output_type": "execute_result"
    }
   ],
   "source": [
    "train.columns"
   ]
  },
  {
   "cell_type": "markdown",
   "id": "70b22fd5",
   "metadata": {},
   "source": [
    "We can remove a few columns that we're pretty confident that won't have a significant impact in our prediction as this will help speed things up. \n",
    "- PlayerCollegeName: College of player shouldn't have any significant impact in determining how many yards a person will run. Even though certain colleges have better players, a better way to determine how many yards a person will carry is their performance prior to that game or season.\n",
    "- Stadium and Location: Since StadiumType, Turf, GameWeather, etc. are already included in our study, then stadium and location won't provide any more input as the type of stadium/location is more significant than its name.\n",
    "- JerseyNumber: Completely useless lol"
   ]
  },
  {
   "cell_type": "code",
   "execution_count": 219,
   "id": "fa78b057",
   "metadata": {},
   "outputs": [],
   "source": [
    "train = train.drop(['PlayerCollegeName', 'Stadium', 'Location', 'JerseyNumber'], axis = 1)"
   ]
  },
  {
   "cell_type": "code",
   "execution_count": 220,
   "id": "5ae28e9f",
   "metadata": {},
   "outputs": [
    {
     "data": {
      "text/plain": [
       "296"
      ]
     },
     "execution_count": 220,
     "metadata": {},
     "output_type": "execute_result"
    }
   ],
   "source": [
    "train[train['FieldPosition'].isnull()]['GameId'].nunique()"
   ]
  },
  {
   "cell_type": "markdown",
   "id": "259587e4",
   "metadata": {},
   "source": [
    "Some notes to include on feature engineering:\n",
    "- Added Date of Game (GameId provides this but I preferred a separate column using datetime)\n",
    "- Added Age of Player (Running backs are known to be in their primes earlier in their careers compared to other positions so age might be a significant predictor)\n",
    "- Added Minute of Quarter (I felt like specific times were a little bit too granular but I also didn't want to divide up the column into halves or quarters, hence I just stuck with keeping the minute when that play occurred)\n",
    "- Added Distance of Player to the runner (If more defenders are played close up to line of scrimmage, then that could mean less yards than usual as there is a higher emphasis to stop the run)\n",
    "- Standardize player tracking coordinates so that offensive units are moving in the same direction throughout the entirety of the game and removed those non-standardized columns\n",
    "- Added TeamOnOffense, IsOnOffense, and IsBallCarrier as it was difficult to determine which player was on offense or defense and which player was ball carier\n",
    "- One of the biggest things we want to understand is how much space a player has. So I used a voronoi diagram and its area."
   ]
  },
  {
   "cell_type": "code",
   "execution_count": 221,
   "id": "a0d587bc",
   "metadata": {},
   "outputs": [],
   "source": [
    "train['Date of Game'] = pd.to_datetime(train['GameId'].astype(str).str[:8])\n",
    "train['Age of Player'] = np.floor((train['Date of Game'] - pd.to_datetime(train['PlayerBirthDate'])) / np.timedelta64(1, 'Y')).astype(int)\n",
    "train['Minute of Quarter'] = train['GameClock'].str[:2]"
   ]
  },
  {
   "cell_type": "code",
   "execution_count": 222,
   "id": "8c862cf0",
   "metadata": {},
   "outputs": [],
   "source": [
    "train = train.drop(['PlayerBirthDate'], axis = 1)"
   ]
  },
  {
   "cell_type": "markdown",
   "id": "3cea5040",
   "metadata": {},
   "source": [
    "##### Standardize player tracking coordinates so that offensive units are moving in the same direction throughout the entirety of the game \n",
    "- Credit goes to Michael Lopez (https://www.kaggle.com/statsbymichaellopez/nfl-tracking-wrangling-voronoi-and-sonars) and CPMP (https://www.kaggle.com/cpmpml/initial-wrangling-voronoi-areas-in-python) for having the code to let me do this "
   ]
  },
  {
   "cell_type": "code",
   "execution_count": 223,
   "id": "36f65ed8",
   "metadata": {},
   "outputs": [],
   "source": [
    "train['ToLeft'] = train.PlayDirection == \"left\"\n",
    "train['IsBallCarrier'] = train.NflId == train.NflIdRusher\n",
    "\n",
    "train.loc[train.VisitorTeamAbbr == \"ARI\", 'VisitorTeamAbbr'] = \"ARZ\"\n",
    "train.loc[train.HomeTeamAbbr == \"ARI\", 'HomeTeamAbbr'] = \"ARZ\"\n",
    "\n",
    "train.loc[train.VisitorTeamAbbr == \"BAL\", 'VisitorTeamAbbr'] = \"BLT\"\n",
    "train.loc[train.HomeTeamAbbr == \"BAL\", 'HomeTeamAbbr'] = \"BLT\"\n",
    "\n",
    "train.loc[train.VisitorTeamAbbr == \"CLE\", 'VisitorTeamAbbr'] = \"CLV\"\n",
    "train.loc[train.HomeTeamAbbr == \"CLE\", 'HomeTeamAbbr'] = \"CLV\"\n",
    "\n",
    "train.loc[train.VisitorTeamAbbr == \"HOU\", 'VisitorTeamAbbr'] = \"HST\"\n",
    "train.loc[train.HomeTeamAbbr == \"HOU\", 'HomeTeamAbbr'] = \"HST\"\n",
    "\n",
    "train['Dir_rad'] = np.mod(90 - train.Dir, 360) * math.pi/180.0\n",
    "\n",
    "train['TeamOnOffense'] = \"home\"\n",
    "train.loc[train.PossessionTeam != train.HomeTeamAbbr, 'TeamOnOffense'] = \"away\"\n",
    "train['IsOnOffense'] = train.Team == train.TeamOnOffense \n",
    "train['YardLine_std'] = 100 - train.YardLine\n",
    "train.loc[train.FieldPosition.fillna('') == train.PossessionTeam,  \n",
    "          'YardLine_std'\n",
    "         ] = train.loc[train.FieldPosition.fillna('') == train.PossessionTeam,  \n",
    "          'YardLine']\n",
    "train['X_std'] = train.X\n",
    "train.loc[train.ToLeft, 'X_std'] = 120 - train.loc[train.ToLeft, 'X'] \n",
    "train['Y_std'] = train.Y\n",
    "train.loc[train.ToLeft, 'Y_std'] = 160/3 - train.loc[train.ToLeft, 'Y'] \n",
    "train['Dir_std'] = train.Dir_rad\n",
    "train.loc[train.ToLeft, 'Dir_std'] = np.mod(np.pi + train.loc[train.ToLeft, 'Dir_rad'], 2*np.pi)\n",
    "\n",
    "train.loc[train.Season >= 2018, 'Orientation_rad'\n",
    "         ] = np.mod(train.loc[train.Season >= 2018, 'Orientation'] - 90, 360) * math.pi/180.0\n",
    "\n",
    "train['Orientation_rad'] = np.mod(train.Orientation, 360) * math.pi/180.0\n",
    "train.loc[train.Season >= 2018, 'Orientation_rad'\n",
    "         ] = np.mod(train.loc[train.Season >= 2018, 'Orientation'] - 90, 360) * math.pi/180.0\n",
    "train['Orientation_std'] = train.Orientation_rad\n",
    "train.loc[train.ToLeft, 'Orientation_std'] = np.mod(np.pi + train.loc[train.ToLeft, 'Orientation_rad'], 2*np.pi)\n",
    "train.loc[train[['PlayId','X_std', 'Y_std']].duplicated(keep = False) == True, 'X_std'] += np.random.uniform(-0.005, 0.005, train[train[['PlayId','X_std', 'Y_std']].duplicated(keep = False)].shape[0])"
   ]
  },
  {
   "cell_type": "code",
   "execution_count": 224,
   "id": "604969ac",
   "metadata": {},
   "outputs": [],
   "source": [
    "train = train.drop(['X', 'Y', 'Dir', 'Orientation', 'YardLine'], axis = 1)"
   ]
  },
  {
   "cell_type": "markdown",
   "id": "4a849281",
   "metadata": {},
   "source": [
    "##### Add columns with difference between TimeHandoff and TimeSnap"
   ]
  },
  {
   "cell_type": "code",
   "execution_count": 225,
   "id": "fef6b5db",
   "metadata": {},
   "outputs": [],
   "source": [
    "train['TimeDiff'] = (pd.to_datetime(train['TimeHandoff']) - pd.to_datetime(train['TimeSnap'])).dt.seconds.astype(int)"
   ]
  },
  {
   "cell_type": "code",
   "execution_count": 226,
   "id": "404f4da2",
   "metadata": {},
   "outputs": [],
   "source": [
    "train = train.drop(['TimeHandoff', 'TimeSnap'], axis = 1)"
   ]
  },
  {
   "cell_type": "markdown",
   "id": "da2ffcc9",
   "metadata": {},
   "source": [
    "##### Update StadiumType columns (only Indoor - Open, Indoor - Closed or Outdoor)"
   ]
  },
  {
   "cell_type": "code",
   "execution_count": 227,
   "id": "9f8983e5",
   "metadata": {},
   "outputs": [],
   "source": [
    "stadium_type_map = {'Outdoor': 'Outdoors',\n",
    "                    'Outdoors': 'Outdoors',\n",
    "                    'Indoors': 'Indoors - Closed',\n",
    "                    'Retractable Roof': 'Indoors - Closed',\n",
    "                    'Indoor': 'Indoors - Closed',\n",
    "                    'Retr. Roof-Closed': 'Indoors - Closed',\n",
    "                    'Open': 'Outdoors',\n",
    "                    'Indoor, Open Roof': 'Indoors - Open',\n",
    "                    'Retr. Roof - Closed': 'Indoors - Closed',\n",
    "                    'Outddors': 'Outdoors',\n",
    "                    'Dome': 'Indoors - Closed',\n",
    "                    'Domed, closed': 'Indoors - Closed',\n",
    "                    'Outdoor Retr Roof-Open': 'Outdoors',\n",
    "                    'Closed Dome': 'Indoors - Closed',\n",
    "                    'Oudoor': 'Outdoors',\n",
    "                    'Ourdoor': 'Outdoors',\n",
    "                    'Dome, closed': 'Indoors - Closed',\n",
    "                    'Retr. Roof-Open': 'Indoors - Open',\n",
    "                    'Heinz Field': 'Outdoors',\n",
    "                    'Outdor': 'Outdoors',\n",
    "                    'Retr. Roof - Open': 'Indoors - Open',\n",
    "                    'Domed, Open': 'Indoors - Open',\n",
    "                    'Domed, open': 'Indoors - Open',\n",
    "                    'Cloudy': 'Indoors - Open',\n",
    "                    'Bowl': 'Indoors - Closed',\n",
    "                    'Outside': 'Outdoors',\n",
    "                    'Domed': 'Indoors - Closed',\n",
    "                    'Indoor, roof open': 'Indoors - Open',\n",
    "                    'indoor': 'Indoors - Closed',\n",
    "                    'Retractable Roof - Closed': 'Indoors - Closed',\n",
    "                    'OUTDOOR': 'Outdoors'}"
   ]
  },
  {
   "cell_type": "code",
   "execution_count": 228,
   "id": "67dc076c",
   "metadata": {},
   "outputs": [],
   "source": [
    "train['StadiumType'] = train['StadiumType'].map(stadium_type_map)"
   ]
  },
  {
   "cell_type": "code",
   "execution_count": 229,
   "id": "7b5a5792",
   "metadata": {},
   "outputs": [],
   "source": [
    "# NYG\n",
    "train.loc[(train[train['StadiumType'].isnull()].index & \\\n",
    "            (train[train['HomeTeamAbbr'] == 'NYG'].index)), 'StadiumType'] = 'Outdoors'\n",
    "\n",
    "# LAC\n",
    "train.loc[(train[train['StadiumType'].isnull()].index & \\\n",
    "            (train[train['HomeTeamAbbr'] == 'LAC'].index)), 'StadiumType'] = 'Outdoors'\n",
    "\n",
    "# IND\n",
    "train.loc[(train[train['StadiumType'].isnull()].index & \\\n",
    "            (train[train['HomeTeamAbbr'] == 'IND'].index)), 'StadiumType'] = 'Indoors - Closed'\n",
    "\n",
    "# ATL\n",
    "train.loc[(train[train['StadiumType'].isnull()].index & \\\n",
    "            (train[train['HomeTeamAbbr'] == 'ATL'].index)), 'StadiumType'] = 'Indoors - Closed'\n",
    "\n",
    "# JAX\n",
    "train.loc[(train[train['StadiumType'].isnull()].index & \\\n",
    "            (train[train['HomeTeamAbbr'] == 'JAX'].index)), 'StadiumType'] = 'Outdoors'"
   ]
  },
  {
   "cell_type": "markdown",
   "id": "7376f31b",
   "metadata": {},
   "source": [
    "##### Update Turf columns (only Natural and Artificial)"
   ]
  },
  {
   "cell_type": "code",
   "execution_count": 230,
   "id": "3d711bd1",
   "metadata": {},
   "outputs": [],
   "source": [
    "turf_map = {'Grass': 'Natural',\n",
    "            'Natural Grass': 'Natural',\n",
    "            'Field Turf': 'Artificial',\n",
    "            'Artificial': 'Artificial',\n",
    "            'FieldTurf': 'Artificial',\n",
    "            'UBU Speed Series-S5-M': 'Artificial',\n",
    "            'A-Turf Titan': 'Artificial',\n",
    "            'SISGrass': 'Natural',\n",
    "            'Natural grass': 'Natural',\n",
    "            'UBU Sports Speed S5-M': 'Artificial',\n",
    "            'FieldTurf360': 'Artificial',\n",
    "            'DD GrassMaster': 'Natural',\n",
    "            'Twenty-Four/Seven Turf': 'Artificial',\n",
    "            'Artifical': 'Artificial',\n",
    "            'FieldTurf 360': 'Artificial',\n",
    "            'Twenty Four/Seven Turf': 'Artificial',\n",
    "            'Turf': 'Artificial',\n",
    "            'Natural': 'Natural',\n",
    "            'Field turf': 'Artificial',\n",
    "            'Naturall Grass': 'Natural',\n",
    "            'UBU-Speed Series-S5-M': 'Artificial',\n",
    "            'natural grass': 'Natural',\n",
    "            'grass': 'Natural'}"
   ]
  },
  {
   "cell_type": "code",
   "execution_count": 231,
   "id": "e0c5c64c",
   "metadata": {},
   "outputs": [],
   "source": [
    "train['Turf'] = train['Turf'].map(turf_map)"
   ]
  },
  {
   "cell_type": "markdown",
   "id": "564ec823",
   "metadata": {},
   "source": [
    "##### Update Weather column (only Raiyn, Cloudy, Sunny, Snow, NA)"
   ]
  },
  {
   "cell_type": "code",
   "execution_count": 232,
   "id": "71a6043e",
   "metadata": {},
   "outputs": [],
   "source": [
    "rainy = ['Rainy', 'Rain Chance 40%', 'Showers',\n",
    "          'Cloudy with periods of rain, thunder possible. Winds shifting to WNW, 10-20 mph.',\n",
    "          'Scattered Showers', 'Cloudy, Rain', 'Rain shower', 'Light Rain', 'Rain', 'Rain likely, temps in low 40s.',\n",
    "         'Cloudy, 50% change of rain', 'Rain and Wind', 'Raining', 'Cloudy with showers and wind',\n",
    "        'Light rain']\n",
    "\n",
    "cloudy = ['Party Cloudy', 'Cloudy, chance of rain',\n",
    "          'Coudy', 'Cloudy and cold', 'Cloudy, fog started developing in 2nd quarter',\n",
    "          'Partly Clouidy', '30% Chance of Rain', 'Mostly Coudy', 'Cloudy and Cool',\n",
    "          'cloudy', 'Partly cloudy', 'Overcast', 'Hazy', 'Mostly cloudy', 'Mostly Cloudy',\n",
    "          'Partly Cloudy', 'Cloudy', 'partly cloudy', 'Breezy', 'overcast', 'Partly cloudy and mild']\n",
    "\n",
    "sunny = ['Partly clear', 'Sunny and clear', 'Sun & clouds', 'Clear and Sunny',\n",
    "           'Sunny and cold', 'Sunny Skies', 'Clear and Cool', 'Clear and sunny',\n",
    "           'Sunny, highs to upper 80s', 'Mostly Sunny Skies', 'Cold',\n",
    "           'Clear and warm', 'Sunny and warm', 'Clear and cold', 'Mostly sunny',\n",
    "           'T: 51; H: 55; W: NW 10 mph', 'Clear Skies', 'Clear skies', 'Partly sunny',\n",
    "           'Fair', 'Partly Sunny', 'Mostly Sunny', 'Clear', 'Sunny', 'Mostly Clear', 'Mostly clear',\n",
    "          'sUNNY', 'Sunny, Windy']\n",
    "\n",
    "snow = ['Heavy lake effect snow', 'Snow', 'Cloudy, light snow accumulating 1-3', 'Cloudy, light snow accumulating 1-3\"']\n",
    "\n",
    "na = ['N/A Indoor', 'Indoors', 'Indoor', 'N/A (Indoors)', 'Controlled Climate', 'N/A Indoors']\n",
    "\n",
    "weather_map = dict()\n",
    "\n",
    "for lst, name in zip([rainy, cloudy, sunny, snow, na], ['Rainy', 'Cloudy', 'Clear', 'Snow', 'NA']):\n",
    "    for item in lst:\n",
    "        weather_map[item] = name"
   ]
  },
  {
   "cell_type": "code",
   "execution_count": 233,
   "id": "c07d49d6",
   "metadata": {},
   "outputs": [],
   "source": [
    "train['GameWeather'] = train['GameWeather'].map(weather_map)"
   ]
  },
  {
   "cell_type": "code",
   "execution_count": 234,
   "id": "7eee496f",
   "metadata": {},
   "outputs": [],
   "source": [
    "train.loc[(train[train['GameWeather'].isnull()].index), 'GameWeather'] = 'NA'"
   ]
  },
  {
   "cell_type": "markdown",
   "id": "6eb54bdb",
   "metadata": {},
   "source": [
    "##### Update WindSpeed column"
   ]
  },
  {
   "cell_type": "code",
   "execution_count": 235,
   "id": "7d09f173",
   "metadata": {},
   "outputs": [],
   "source": [
    "train['WindSpeed'] = train['WindSpeed'].astype(str).str.split('.').str[0].str.extract('(\\d+)')"
   ]
  },
  {
   "cell_type": "markdown",
   "id": "36ef7a75",
   "metadata": {},
   "source": [
    "##### Updated WindDirection column"
   ]
  },
  {
   "cell_type": "code",
   "execution_count": 236,
   "id": "1373746d",
   "metadata": {},
   "outputs": [],
   "source": [
    "SW = ['SW', 'WSW', 'SSW', 'South', 'Southwest', 'SouthWest', 'West-Southwest', 'S-SW', 'From NNE', 'W-SW', 'From NE',\n",
    "      'South Southwest', 'South west']\n",
    "NE = ['NE', 'NNE', 'ENE', 'From SW', 'Northeast', 'NorthEast', 'North East', 'N-NE', 'From SSW', 'From WSW',\n",
    "      'East North East']\n",
    "NW = ['NW', 'WNW', 'NNW', 'Northwest', 'W-NW', 'West Northwest', 'North/Northwest', 'From SSE', 'From ESE']\n",
    "SE = ['SE', 'SSE', 'East Southeast', 'ESE', 'Southeast', 'South, Southeast', 'East Southeast', 'South Southeast',\n",
    "      'From NNW']\n",
    "N = ['N', 'North', 'From S', '1', '13']\n",
    "W = ['W', 'West', '8']\n",
    "S = ['S', 'South', 's', 'Southerly']\n",
    "E = ['E', 'East', 'From W', 'EAST', 'from W']\n",
    "\n",
    "wind_dir_map = dict()\n",
    "\n",
    "for lst, name in zip([SW, NE, NW, SE, N, W, S, E], ['SW', 'NE', 'NW', 'SE', 'N', 'W', 'S', 'E']):\n",
    "    for item in lst:\n",
    "        wind_dir_map[item] = name"
   ]
  },
  {
   "cell_type": "code",
   "execution_count": 237,
   "id": "d5511751",
   "metadata": {},
   "outputs": [],
   "source": [
    "train['WindDirection'] = train['WindDirection'].map(wind_dir_map)"
   ]
  },
  {
   "cell_type": "code",
   "execution_count": 238,
   "id": "7ff9c0a8",
   "metadata": {},
   "outputs": [],
   "source": [
    "train.loc[(train[train['WindDirection'].isnull()].index), 'WindDirection'] = 'NA'"
   ]
  },
  {
   "cell_type": "markdown",
   "id": "1fd7aea2",
   "metadata": {},
   "source": [
    "##### Add feature to determine distance of player from runner  in terms of yards"
   ]
  },
  {
   "cell_type": "code",
   "execution_count": 239,
   "id": "ec5b1b9a",
   "metadata": {},
   "outputs": [],
   "source": [
    "train = train.merge(train[train['IsBallCarrier'] == True][['PlayId', 'X_std', 'Y_std']].rename(columns = {'X_std': 'Runner_X_std',\n",
    "                                                                                      'Y_std': 'Runner_Y_std'}),\n",
    "             on = 'PlayId',\n",
    "             how = 'left')\n",
    "\n",
    "train['Distance_From_Runner'] = np.sqrt((train['X_std'] - train['Runner_X_std'])**2 + (train['Y_std'] - train['Runner_Y_std'])**2)\n",
    "train = train.drop(['Runner_X_std', 'Runner_Y_std'], axis = 1)"
   ]
  },
  {
   "cell_type": "markdown",
   "id": "92cceedf",
   "metadata": {},
   "source": [
    "##### Difference in Score column"
   ]
  },
  {
   "cell_type": "code",
   "execution_count": 240,
   "id": "9a5fb728",
   "metadata": {},
   "outputs": [],
   "source": [
    "train['DifferenceInScore'] = train.apply(lambda x: (x['HomeScoreBeforePlay'] - x['VisitorScoreBeforePlay']) if x['TeamOnOffense'] == 'home' else (x['VisitorScoreBeforePlay'] - x['HomeScoreBeforePlay']), axis = 1)"
   ]
  },
  {
   "cell_type": "markdown",
   "id": "2ffeff8b",
   "metadata": {},
   "source": [
    "##### Count of Offensive/Defensive Personnel"
   ]
  },
  {
   "cell_type": "code",
   "execution_count": 241,
   "id": "4c5542be",
   "metadata": {},
   "outputs": [],
   "source": [
    "def personel_count(string, position):\n",
    "    \n",
    "    list_split = string.split(position)\n",
    "    \n",
    "    if len(list_split) == 1:\n",
    "        return(0)\n",
    "    else:\n",
    "        return(int(list_split[0][-2]))\n",
    "    \n",
    "# Fix this specific play with wrong formation\n",
    "train.loc[train['DefensePersonnel'] == '4 DL, 3 LB, 5 DB', 'DefensePersonnel'] = '4 DL, 2 LB, 5 DB'\n",
    "\n",
    "# Offense Categories \n",
    "for pos in ['RB', 'WR', 'OL', 'QB', 'TE']:\n",
    "\n",
    "    train['{} Count'.format(pos)] = train['OffensePersonnel'].apply(lambda x: personel_count(x, pos))\n",
    "    \n",
    "# Defense Categories\n",
    "for pos in ['DL', 'DB', 'LB']:\n",
    "\n",
    "    train['{} Count'.format(pos)] = train['DefensePersonnel'].apply(lambda x: personel_count(x, pos))\n",
    "    \n",
    "train.loc[train['OL Count'] == 0, 'OL Count'] = 5\n",
    "train.loc[train['QB Count'] == 0, 'QB Count'] = 1\n",
    "\n",
    "train['Total Count (Offense)'] = train['RB Count'] + train['WR Count'] + train['OL Count'] + train['QB Count'] + train['TE Count']\n",
    "train['Total Count (Defense)'] = train['DL Count'] + train['DB Count'] + train['LB Count']\n",
    "\n",
    "train.loc[train['Total Count (Offense)'] == 10, 'OL Count'] += 1\n",
    "train.loc[train['Total Count (Offense)'] == 9, 'OL Count'] += 2\n",
    "train.loc[train['Total Count (Defense)'] == 10, 'DL Count'] += 1\n",
    "\n",
    "train = train.drop(['OffensePersonnel', 'DefensePersonnel', 'Total Count (Offense)', 'Total Count (Defense)'], axis = 1)"
   ]
  },
  {
   "cell_type": "markdown",
   "id": "81093532",
   "metadata": {},
   "source": [
    "##### Add feature to determine how much space between defenders"
   ]
  },
  {
   "cell_type": "code",
   "execution_count": 242,
   "id": "9acb62c8",
   "metadata": {},
   "outputs": [],
   "source": [
    "# Code was used from https://stackoverflow.com/questions/24467972/calculate-area-of-polygon-given-x-y-coordinates\n",
    "def PolyArea(x,y):\n",
    "    return 0.5*np.abs(np.dot(x,np.roll(y,1))-np.dot(y,np.roll(x,1)))\n",
    "\n",
    "# Code influenced by this link (https://stackoverflow.com/questions/28665491/getting-a-bounded-polygon-coordinates-from-voronoi-cells) to get the areas of a voronoi diagram by bounding the plane\n",
    "def voronoi_test(df):\n",
    "    \n",
    "    eps = sys.float_info.epsilon\n",
    "    \n",
    "    num_regions = 0\n",
    "    value = 0\n",
    "    \n",
    "    while num_regions < 22:\n",
    "    \n",
    "        towers = np.array(df[['X_std', 'Y_std']])\n",
    "        bounding_box = np.array([df['X_std'].min()-(value), df['X_std'].max()+(value)+0.001, df['Y_std'].min()-(value) , df['Y_std'].max()+(value)])\n",
    "\n",
    "        points_center = towers.copy()\n",
    "        points_left = np.copy(points_center)\n",
    "        points_left[:, 0] = bounding_box[0] - (points_left[:, 0] - bounding_box[0])\n",
    "        points_right = np.copy(points_center)\n",
    "        points_right[:, 0] = bounding_box[1] + (bounding_box[1] - points_right[:, 0])\n",
    "        points_down = np.copy(points_center)\n",
    "        points_down[:, 1] = bounding_box[2] - (points_down[:, 1] - bounding_box[2])\n",
    "        points_up = np.copy(points_center)\n",
    "        points_up[:, 1] = bounding_box[3] + (bounding_box[3] - points_up[:, 1])\n",
    "        points = np.append(points_center,\n",
    "                           np.append(np.append(points_left,\n",
    "                                               points_right,\n",
    "                                               axis=0),\n",
    "                                     np.append(points_down,\n",
    "                                               points_up,\n",
    "                                               axis=0),\n",
    "                                     axis=0),\n",
    "                           axis=0)\n",
    "\n",
    "        # Compute Voronoi\n",
    "        vor = scipy.spatial.Voronoi(points)\n",
    "\n",
    "        # Filter regions\n",
    "        regions = []\n",
    "        for region in vor.regions:\n",
    "            flag = True\n",
    "            for index in region:\n",
    "                if index == -1:\n",
    "                    flag = False\n",
    "                    break\n",
    "                else:\n",
    "                    x = vor.vertices[index, 0]\n",
    "                    y = vor.vertices[index, 1]\n",
    "                    if not(bounding_box[0] - eps <= x and x <= bounding_box[1] + eps and\n",
    "                           bounding_box[2] - eps <= y and y <= bounding_box[3] + eps):\n",
    "                        flag = False\n",
    "                        break\n",
    "            if region != [] and flag:\n",
    "                regions.append(region)\n",
    "                \n",
    "        num_regions = len(regions)\n",
    "        value += 0.001\n",
    "    \n",
    "    vor.filtered_points = points_center\n",
    "    vor.filtered_regions = regions\n",
    "\n",
    "    area_values = []\n",
    "    for index in vor.point_region[:22]:\n",
    "        vertices_df = pd.DataFrame(vor.vertices[vor.regions[index],:]).rename(columns = {0: 'x',\n",
    "                                                                                1: 'y'})\n",
    "        area_values.append(PolyArea(vertices_df.x, vertices_df.y))\n",
    "    \n",
    "    return(pd.Series(area_values))"
   ]
  },
  {
   "cell_type": "code",
   "execution_count": 31,
   "id": "c8db28fa",
   "metadata": {},
   "outputs": [
    {
     "name": "stdout",
     "output_type": "stream",
     "text": [
      "CPU times: user 13min 50s, sys: 5.69 s, total: 13min 56s\n",
      "Wall time: 14min 46s\n"
     ]
    }
   ],
   "source": [
    "%%time\n",
    "train['Area of Space'] = train.groupby('PlayId').apply(lambda x: voronoi_test(x)).reset_index().melt(id_vars = 'PlayId').sort_values(['PlayId', 'variable'])[['value']].reset_index(drop = True)"
   ]
  },
  {
   "cell_type": "markdown",
   "id": "f6cc3f3f",
   "metadata": {},
   "source": [
    "# Final Code"
   ]
  },
  {
   "cell_type": "code",
   "execution_count": 32,
   "id": "15e6df9a",
   "metadata": {},
   "outputs": [
    {
     "name": "stderr",
     "output_type": "stream",
     "text": [
      "/Library/Frameworks/Python.framework/Versions/3.7/lib/python3.7/site-packages/IPython/core/interactiveshell.py:3170: DtypeWarning: Columns (47) have mixed types.Specify dtype option on import or set low_memory=False.\n",
      "  interactivity=interactivity, compiler=compiler, result=result)\n"
     ]
    }
   ],
   "source": [
    "train = pd.read_csv('train.csv')"
   ]
  },
  {
   "cell_type": "code",
   "execution_count": 33,
   "id": "3b9bae23",
   "metadata": {},
   "outputs": [],
   "source": [
    "def personel_count(string, position):\n",
    "    \n",
    "    list_split = string.split(position)\n",
    "    \n",
    "    if len(list_split) == 1:\n",
    "        return(0)\n",
    "    else:\n",
    "        return(int(list_split[0][-2]))\n",
    "    \n",
    "def PolyArea(x,y):\n",
    "    return 0.5*np.abs(np.dot(x,np.roll(y,1))-np.dot(y,np.roll(x,1)))\n",
    "\n",
    "def voronoi_test(df):\n",
    "    \n",
    "    eps = sys.float_info.epsilon\n",
    "    \n",
    "    num_regions = 0\n",
    "    value = 0\n",
    "    \n",
    "    while num_regions < 22:\n",
    "    \n",
    "        towers = np.array(df[['X_std', 'Y_std']])\n",
    "        bounding_box = np.array([df['X_std'].min()-(value), df['X_std'].max()+(value)+0.001, df['Y_std'].min()-(value) , df['Y_std'].max()+(value)])\n",
    "\n",
    "        points_center = towers.copy()\n",
    "        points_left = np.copy(points_center)\n",
    "        points_left[:, 0] = bounding_box[0] - (points_left[:, 0] - bounding_box[0])\n",
    "        points_right = np.copy(points_center)\n",
    "        points_right[:, 0] = bounding_box[1] + (bounding_box[1] - points_right[:, 0])\n",
    "        points_down = np.copy(points_center)\n",
    "        points_down[:, 1] = bounding_box[2] - (points_down[:, 1] - bounding_box[2])\n",
    "        points_up = np.copy(points_center)\n",
    "        points_up[:, 1] = bounding_box[3] + (bounding_box[3] - points_up[:, 1])\n",
    "        points = np.append(points_center,\n",
    "                           np.append(np.append(points_left,\n",
    "                                               points_right,\n",
    "                                               axis=0),\n",
    "                                     np.append(points_down,\n",
    "                                               points_up,\n",
    "                                               axis=0),\n",
    "                                     axis=0),\n",
    "                           axis=0)\n",
    "\n",
    "        # Compute Voronoi\n",
    "        vor = scipy.spatial.Voronoi(points)\n",
    "\n",
    "        # Filter regions\n",
    "        regions = []\n",
    "        for region in vor.regions:\n",
    "            flag = True\n",
    "            for index in region:\n",
    "                if index == -1:\n",
    "                    flag = False\n",
    "                    break\n",
    "                else:\n",
    "                    x = vor.vertices[index, 0]\n",
    "                    y = vor.vertices[index, 1]\n",
    "                    if not(bounding_box[0] - eps <= x and x <= bounding_box[1] + eps and\n",
    "                           bounding_box[2] - eps <= y and y <= bounding_box[3] + eps):\n",
    "                        flag = False\n",
    "                        break\n",
    "            if region != [] and flag:\n",
    "                regions.append(region)\n",
    "                \n",
    "        num_regions = len(regions)\n",
    "        value += 0.001\n",
    "    \n",
    "    vor.filtered_points = points_center\n",
    "    vor.filtered_regions = regions\n",
    "\n",
    "    area_values = []\n",
    "    for index in vor.point_region[:22]:\n",
    "        vertices_df = pd.DataFrame(vor.vertices[vor.regions[index],:]).rename(columns = {0: 'x',\n",
    "                                                                                1: 'y'})\n",
    "        area_values.append(PolyArea(vertices_df.x, vertices_df.y))\n",
    "    \n",
    "    return(pd.Series(area_values))\n",
    "\n",
    "def final_data(df):\n",
    "    \n",
    "    df_copy = df.copy()\n",
    "   \n",
    "    # === Adding in Date of Game/Age of Player/Minute === \n",
    "    df_copy['Date of Game'] = pd.to_datetime(df_copy['GameId'].astype(str).str[:8])\n",
    "    df_copy['Age of Player'] = np.floor((df_copy['Date of Game'] - pd.to_datetime(df_copy['PlayerBirthDate'])) / np.timedelta64(1, 'Y')).astype(int)\n",
    "    df_copy['Minute of Quarter'] = df_copy['GameClock'].str[:2]\n",
    "    df_copy['PlayerHeight'] = df_copy['PlayerHeight'].str.split('-').str[0].astype(int)*12 + train['PlayerHeight'].str.split('-').str[1].astype(int)\n",
    "    \n",
    "    # === Standardize player tracking coordinates === \n",
    "    df_copy['ToLeft'] = df_copy.PlayDirection == \"left\"\n",
    "    df_copy['IsBallCarrier'] = df_copy.NflId == df_copy.NflIdRusher\n",
    "\n",
    "    df_copy.loc[df_copy.VisitorTeamAbbr == \"ARI\", 'VisitorTeamAbbr'] = \"ARZ\"\n",
    "    df_copy.loc[df_copy.HomeTeamAbbr == \"ARI\", 'HomeTeamAbbr'] = \"ARZ\"\n",
    "\n",
    "    df_copy.loc[df_copy.VisitorTeamAbbr == \"BAL\", 'VisitorTeamAbbr'] = \"BLT\"\n",
    "    df_copy.loc[df_copy.HomeTeamAbbr == \"BAL\", 'HomeTeamAbbr'] = \"BLT\"\n",
    "\n",
    "    df_copy.loc[df_copy.VisitorTeamAbbr == \"CLE\", 'VisitorTeamAbbr'] = \"CLV\"\n",
    "    df_copy.loc[df_copy.HomeTeamAbbr == \"CLE\", 'HomeTeamAbbr'] = \"CLV\"\n",
    "\n",
    "    df_copy.loc[df_copy.VisitorTeamAbbr == \"HOU\", 'VisitorTeamAbbr'] = \"HST\"\n",
    "    df_copy.loc[df_copy.HomeTeamAbbr == \"HOU\", 'HomeTeamAbbr'] = \"HST\"\n",
    "\n",
    "    df_copy['Dir_rad'] = np.mod(90 - df_copy.Dir, 360) * math.pi/180.0\n",
    "\n",
    "    df_copy['TeamOnOffense'] = \"home\"\n",
    "    df_copy.loc[df_copy.PossessionTeam != df_copy.HomeTeamAbbr, 'TeamOnOffense'] = \"away\"\n",
    "    df_copy['IsOnOffense'] = df_copy.Team == df_copy.TeamOnOffense \n",
    "    df_copy['YardLine_std'] = 100 - df_copy.YardLine\n",
    "    df_copy.loc[df_copy.FieldPosition.fillna('') == df_copy.PossessionTeam,  \n",
    "              'YardLine_std'\n",
    "             ] = df_copy.loc[df_copy.FieldPosition.fillna('') == df_copy.PossessionTeam,  \n",
    "              'YardLine']\n",
    "    df_copy['X_std'] = df_copy.X\n",
    "    df_copy.loc[df_copy.ToLeft, 'X_std'] = 120 - df_copy.loc[df_copy.ToLeft, 'X'] \n",
    "    df_copy['Y_std'] = df_copy.Y\n",
    "    df_copy.loc[df_copy.ToLeft, 'Y_std'] = 160/3 - df_copy.loc[df_copy.ToLeft, 'Y'] \n",
    "    df_copy['Dir_std'] = df_copy.Dir_rad\n",
    "    df_copy.loc[df_copy.ToLeft, 'Dir_std'] = np.mod(np.pi + df_copy.loc[df_copy.ToLeft, 'Dir_rad'], 2*np.pi)\n",
    "\n",
    "    df_copy.loc[df_copy.Season >= 2018, 'Orientation_rad'\n",
    "             ] = np.mod(df_copy.loc[df_copy.Season >= 2018, 'Orientation'] - 90, 360) * math.pi/180.0\n",
    "\n",
    "    df_copy['Orientation_rad'] = np.mod(df_copy.Orientation, 360) * math.pi/180.0\n",
    "    df_copy.loc[df_copy.Season >= 2018, 'Orientation_rad'\n",
    "             ] = np.mod(df_copy.loc[df_copy.Season >= 2018, 'Orientation'] - 90, 360) * math.pi/180.0\n",
    "    df_copy['Orientation_std'] = df_copy.Orientation_rad\n",
    "    df_copy.loc[df_copy.ToLeft, 'Orientation_std'] = np.mod(np.pi + df_copy.loc[df_copy.ToLeft, 'Orientation_rad'], 2*np.pi)\n",
    "    df_copy.loc[df_copy[['PlayId','X_std', 'Y_std']].duplicated(keep = False) == True, 'X_std'] += np.random.uniform(-0.005, 0.005, df_copy[df_copy[['PlayId','X_std', 'Y_std']].duplicated(keep = False)].shape[0])\n",
    "    \n",
    "    # === Add columns with difference between TimeHandoff and TimeSnap === \n",
    "    df_copy['TimeDiff'] = (pd.to_datetime(df_copy['TimeHandoff']) - pd.to_datetime(df_copy['TimeSnap'])).dt.seconds.astype(int)\n",
    "    \n",
    "    # === Update StadiumType columns (only Indoor - Open, Indoor - Closed or Outdoor) ===\n",
    "    stadium_type_map = {'Outdoor': 'Outdoors',\n",
    "                    'Outdoors': 'Outdoors',\n",
    "                    'Indoors': 'Indoors - Closed',\n",
    "                    'Retractable Roof': 'Indoors - Closed',\n",
    "                    'Indoor': 'Indoors - Closed',\n",
    "                    'Retr. Roof-Closed': 'Indoors - Closed',\n",
    "                    'Open': 'Outdoors',\n",
    "                    'Indoor, Open Roof': 'Indoors - Open',\n",
    "                    'Retr. Roof - Closed': 'Indoors - Closed',\n",
    "                    'Outddors': 'Outdoors',\n",
    "                    'Dome': 'Indoors - Closed',\n",
    "                    'Domed, closed': 'Indoors - Closed',\n",
    "                    'Outdoor Retr Roof-Open': 'Outdoors',\n",
    "                    'Closed Dome': 'Indoors - Closed',\n",
    "                    'Oudoor': 'Outdoors',\n",
    "                    'Ourdoor': 'Outdoors',\n",
    "                    'Dome, closed': 'Indoors - Closed',\n",
    "                    'Retr. Roof-Open': 'Indoors - Open',\n",
    "                    'Heinz Field': 'Outdoors',\n",
    "                    'Outdor': 'Outdoors',\n",
    "                    'Retr. Roof - Open': 'Indoors - Open',\n",
    "                    'Domed, Open': 'Indoors - Open',\n",
    "                    'Domed, open': 'Indoors - Open',\n",
    "                    'Cloudy': 'Indoors - Open',\n",
    "                    'Bowl': 'Indoors - Closed',\n",
    "                    'Outside': 'Outdoors',\n",
    "                    'Domed': 'Indoors - Closed',\n",
    "                    'Indoor, roof open': 'Indoors - Open',\n",
    "                    'indoor': 'Indoors - Closed',\n",
    "                    'Retractable Roof - Closed': 'Indoors - Closed',\n",
    "                    'OUTDOOR': 'Outdoors'}\n",
    "    \n",
    "    df_copy['StadiumType'] = df_copy['StadiumType'].map(stadium_type_map)\n",
    "    df_copy.loc[(df_copy[df_copy['StadiumType'].isnull()].index & \\\n",
    "                (df_copy[df_copy['HomeTeamAbbr'] == 'NYG'].index)), 'StadiumType'] = 'Outdoors'\n",
    "    df_copy.loc[(df_copy[df_copy['StadiumType'].isnull()].index & \\\n",
    "                (df_copy[df_copy['HomeTeamAbbr'] == 'LAC'].index)), 'StadiumType'] = 'Outdoors'\n",
    "    df_copy.loc[(df_copy[df_copy['StadiumType'].isnull()].index & \\\n",
    "                (df_copy[df_copy['HomeTeamAbbr'] == 'IND'].index)), 'StadiumType'] = 'Indoors - Closed'\n",
    "    df_copy.loc[(df_copy[df_copy['StadiumType'].isnull()].index & \\\n",
    "                (df_copy[df_copy['HomeTeamAbbr'] == 'ATL'].index)), 'StadiumType'] = 'Indoors - Closed'\n",
    "    df_copy.loc[(df_copy[df_copy['StadiumType'].isnull()].index & \\\n",
    "                (df_copy[df_copy['HomeTeamAbbr'] == 'JAX'].index)), 'StadiumType'] = 'Outdoors'\n",
    "    \n",
    "    # === Update Turf columns (only Natural and Artificial) === \n",
    "    turf_map = {'Grass': 'Natural',\n",
    "            'Natural Grass': 'Natural',\n",
    "            'Field Turf': 'Artificial',\n",
    "            'Artificial': 'Artificial',\n",
    "            'FieldTurf': 'Artificial',\n",
    "            'UBU Speed Series-S5-M': 'Artificial',\n",
    "            'A-Turf Titan': 'Artificial',\n",
    "            'SISGrass': 'Natural',\n",
    "            'Natural grass': 'Natural',\n",
    "            'UBU Sports Speed S5-M': 'Artificial',\n",
    "            'FieldTurf360': 'Artificial',\n",
    "            'DD GrassMaster': 'Natural',\n",
    "            'Twenty-Four/Seven Turf': 'Artificial',\n",
    "            'Artifical': 'Artificial',\n",
    "            'FieldTurf 360': 'Artificial',\n",
    "            'Twenty Four/Seven Turf': 'Artificial',\n",
    "            'Turf': 'Artificial',\n",
    "            'Natural': 'Natural',\n",
    "            'Field turf': 'Artificial',\n",
    "            'Naturall Grass': 'Natural',\n",
    "            'UBU-Speed Series-S5-M': 'Artificial',\n",
    "            'natural grass': 'Natural',\n",
    "            'grass': 'Natural'}\n",
    "    \n",
    "    df_copy['Turf'] = df_copy['Turf'].map(turf_map)\n",
    "    \n",
    "    # === Update Weather column (only Raiyn, Cloudy, Sunny, Snow, NA) ===\n",
    "    rainy = ['Rainy', 'Rain Chance 40%', 'Showers',\n",
    "          'Cloudy with periods of rain, thunder possible. Winds shifting to WNW, 10-20 mph.',\n",
    "          'Scattered Showers', 'Cloudy, Rain', 'Rain shower', 'Light Rain', 'Rain', 'Rain likely, temps in low 40s.',\n",
    "         'Cloudy, 50% change of rain', 'Rain and Wind', 'Raining', 'Cloudy with showers and wind',\n",
    "        'Light rain']\n",
    "\n",
    "    cloudy = ['Party Cloudy', 'Cloudy, chance of rain',\n",
    "              'Coudy', 'Cloudy and cold', 'Cloudy, fog started developing in 2nd quarter',\n",
    "              'Partly Clouidy', '30% Chance of Rain', 'Mostly Coudy', 'Cloudy and Cool',\n",
    "              'cloudy', 'Partly cloudy', 'Overcast', 'Hazy', 'Mostly cloudy', 'Mostly Cloudy',\n",
    "              'Partly Cloudy', 'Cloudy', 'partly cloudy', 'Breezy', 'overcast', 'Partly cloudy and mild']\n",
    "\n",
    "    sunny = ['Partly clear', 'Sunny and clear', 'Sun & clouds', 'Clear and Sunny',\n",
    "               'Sunny and cold', 'Sunny Skies', 'Clear and Cool', 'Clear and sunny',\n",
    "               'Sunny, highs to upper 80s', 'Mostly Sunny Skies', 'Cold',\n",
    "               'Clear and warm', 'Sunny and warm', 'Clear and cold', 'Mostly sunny',\n",
    "               'T: 51; H: 55; W: NW 10 mph', 'Clear Skies', 'Clear skies', 'Partly sunny',\n",
    "               'Fair', 'Partly Sunny', 'Mostly Sunny', 'Clear', 'Sunny', 'Mostly Clear', 'Mostly clear',\n",
    "              'sUNNY', 'Sunny, Windy']\n",
    "\n",
    "    snow = ['Heavy lake effect snow', 'Snow', 'Cloudy, light snow accumulating 1-3', 'Cloudy, light snow accumulating 1-3\"']\n",
    "\n",
    "    na = ['N/A Indoor', 'Indoors', 'Indoor', 'N/A (Indoors)', 'Controlled Climate', 'N/A Indoors']\n",
    "\n",
    "    weather_map = dict()\n",
    "\n",
    "    for lst, name in zip([rainy, cloudy, sunny, snow, na], ['Rainy', 'Cloudy', 'Clear', 'Snow', 'NA']):\n",
    "        for item in lst:\n",
    "            weather_map[item] = name\n",
    "            \n",
    "    df_copy['GameWeather'] = df_copy['GameWeather'].map(weather_map)\n",
    "    \n",
    "    df_copy.loc[(df_copy[df_copy['GameWeather'].isnull()].index), 'GameWeather'] = 'NA'\n",
    "\n",
    "    # === Update WindSpeed column ===\n",
    "    df_copy['WindSpeed'] = df_copy['WindSpeed'].astype(str).str.split('.').str[0].str.extract('(\\d+)')\n",
    "    \n",
    "    # === Add feature to determine distance of player from runner in terms of yards ===\n",
    "    df_copy = df_copy.merge(df_copy[df_copy['IsBallCarrier'] == True][['PlayId', 'X_std', 'Y_std']].rename(columns = {'X_std': 'Runner_X_std',\n",
    "                                                                                      'Y_std': 'Runner_Y_std'}),\n",
    "             on = 'PlayId',\n",
    "             how = 'left')\n",
    "\n",
    "    df_copy['Distance_From_Runner'] = np.sqrt((df_copy['X_std'] - df_copy['Runner_X_std'])**2 + (df_copy['Y_std'] - df_copy['Runner_Y_std'])**2)\n",
    "    distance_from_runner = df_copy[df_copy['IsOnOffense'] == False].groupby(['PlayId']).quantile([0, 0.25, 0.5, 0.75, 1])['Distance_From_Runner'].reset_index().pivot(index = 'PlayId', columns = 'level_1').reset_index()\n",
    "    distance_from_runner.columns = ['PlayId', 'Distance_From_Runner_Min', 'Distance_From_Runner_25', 'Distance_From_Runner_50', 'Distance_From_Runner_75', 'Distance_From_Runner_Max']\n",
    "\n",
    "    # === Difference in Score column === \n",
    "    df_copy['DifferenceInScore'] = df_copy.apply(lambda x: (x['HomeScoreBeforePlay'] - x['VisitorScoreBeforePlay']) if x['TeamOnOffense'] == 'home' else (x['VisitorScoreBeforePlay'] - x['HomeScoreBeforePlay']), axis = 1)\n",
    "    \n",
    "    \n",
    "    # === Count of Offensive/Defensive Personnel === \n",
    "    # Fix this specific play with wrong formation\n",
    "    df_copy.loc[df_copy['DefensePersonnel'] == '4 DL, 3 LB, 5 DB', 'DefensePersonnel'] = '4 DL, 2 LB, 5 DB'\n",
    "\n",
    "    # Offense Categories \n",
    "    for pos in ['RB', 'WR', 'OL', 'QB', 'TE']:\n",
    "\n",
    "        df_copy['{} Count'.format(pos)] = df_copy['OffensePersonnel'].apply(lambda x: personel_count(x, pos))\n",
    "\n",
    "    # Defense Categories\n",
    "    for pos in ['DL', 'DB', 'LB']:\n",
    "\n",
    "        df_copy['{} Count'.format(pos)] = df_copy['DefensePersonnel'].apply(lambda x: personel_count(x, pos))\n",
    "\n",
    "    df_copy.loc[df_copy['OL Count'] == 0, 'OL Count'] = 5\n",
    "    df_copy.loc[df_copy['QB Count'] == 0, 'QB Count'] = 1\n",
    "\n",
    "    df_copy['Total Count (Offense)'] = df_copy['RB Count'] + df_copy['WR Count'] + df_copy['OL Count'] + df_copy['QB Count'] + df_copy['TE Count']\n",
    "    df_copy['Total Count (Defense)'] = df_copy['DL Count'] + df_copy['DB Count'] + df_copy['LB Count']\n",
    "\n",
    "    df_copy.loc[df_copy['Total Count (Offense)'] == 10, 'OL Count'] += 1\n",
    "    df_copy.loc[df_copy['Total Count (Offense)'] == 9, 'OL Count'] += 2\n",
    "    df_copy.loc[df_copy['Total Count (Defense)'] == 10, 'DL Count'] += 1\n",
    "    \n",
    "    # Fix FieldPosition is null\n",
    "    df_copy.loc[(ex['FieldPosition'].isnull()),'FieldPosition'] = df_copy.loc[(ex['FieldPosition'].isnull()),'PossessionTeam']\n",
    "\n",
    "    # === Add feature to determine how much space between defenders ===\n",
    "    df_copy['Area of Space'] = df_copy.groupby('PlayId').apply(lambda x: voronoi_test(x)).reset_index().melt(id_vars = 'PlayId').sort_values(['PlayId', 'variable'])[['value']].reset_index(drop = True)\n",
    "    defense_area = df_copy[df_copy['IsOnOffense'] == False].groupby(['PlayId']).quantile([0, 0.25, 0.5, 0.75, 1])['Area of Space'].reset_index().pivot(index = 'PlayId', columns = 'level_1').reset_index()\n",
    "    defense_area.columns = ['PlayId', 'Area_of_Space_Min', 'Area_of_Space_25', 'Area_of_Space_50', 'Area_of_Space_75', 'Area_of_Space_Max']\n",
    "    \n",
    "    # === Creating final dataset for each play ===\n",
    "    final_df_copy = df_copy[df_copy['IsBallCarrier'] == True][['PlayId','Down', 'Dis', 'Distance', 'OffenseFormation', 'DefendersInTheBox', 'Yards', 'PlayerHeight', 'S', 'A',\n",
    "                                                'PlayerWeight', 'StadiumType', 'Turf', 'GameWeather', 'Temperature',\n",
    "                                                'Humidity', 'WindSpeed', 'WindDirection', 'Age of Player', 'Minute of Quarter',\n",
    "                                                'X_std', 'Y_std', 'Dir_std', 'Orientation_std', 'TimeDiff', 'DifferenceInScore',\n",
    "                                                'RB Count', 'WR Count', 'OL Count', 'QB Count', 'TE Count', 'DB Count', 'Area of Space']]\n",
    "    final_df_copy = final_df_copy.merge(defense_area,\n",
    "                              on = 'PlayId',\n",
    "                              how = 'left')\n",
    "    final_df_copy = final_df_copy.merge(distance_from_runner,\n",
    "                              on = 'PlayId',\n",
    "                              how = 'left')\n",
    "    \n",
    "    # === Deal with missing values ===\n",
    "    for col in final_df_copy.columns:\n",
    "        if final_df_copy[col].isnull().sum() > 0:\n",
    "            if final_df_copy[col].dtype == 'O':\n",
    "                imputer = SimpleImputer(missing_values=np.nan, strategy='most_frequent')\n",
    "                final_df_copy[col] = imputer.fit_transform(final_df_copy[col].values.reshape(-1,1))[:,0]\n",
    "            elif (final_df_copy[col].dtype == 'float64') | (final_df_copy[col].dtype == 'int64'):\n",
    "                imputer = SimpleImputer(missing_values=np.nan, strategy='median')\n",
    "                final_df_copy[col] = imputer.fit_transform(final_df_copy[col].values.reshape(-1,1))[:,0]\n",
    "                \n",
    "    return final_df_copy"
   ]
  },
  {
   "cell_type": "code",
   "execution_count": 34,
   "id": "273e68e3",
   "metadata": {},
   "outputs": [],
   "source": [
    "final_df = final_data(train)"
   ]
  },
  {
   "cell_type": "code",
   "execution_count": 35,
   "id": "a86b72d7",
   "metadata": {},
   "outputs": [],
   "source": [
    "final_test = final_df.copy()"
   ]
  },
  {
   "cell_type": "code",
   "execution_count": 36,
   "id": "f0dd94eb",
   "metadata": {},
   "outputs": [],
   "source": [
    "y = np.zeros((final_test['Yards'].shape[0], 199))\n",
    "for idx, target in enumerate(list(final_test['Yards'])):\n",
    "    y[idx][99 + target] = 1"
   ]
  },
  {
   "cell_type": "code",
   "execution_count": 39,
   "id": "1cc467bc",
   "metadata": {},
   "outputs": [],
   "source": [
    "categorical_col = ['OffenseFormation', 'StadiumType', 'Turf', 'GameWeather', 'WindDirection', 'Down']\n",
    "numerical_col = ['Dis', 'Distance', 'OffenseFormation',\n",
    "       'DefendersInTheBox', 'PlayerHeight', 'S', 'A', 'PlayerWeight', 'Temperature', 'Humidity',\n",
    "       'WindSpeed', 'Age of Player', 'Minute of Quarter', 'Yardline_std'\n",
    "       'X_std', 'Y_std', 'Dir_std', 'Orientation_std', 'TimeDiff',\n",
    "       'DifferenceInScore', 'RB Count', 'WR Count', 'OL Count', 'QB Count',\n",
    "       'TE Count', 'DB Count', 'Area of Space', 'Area_of_Space_Min',\n",
    "       'Area_of_Space_25', 'Area_of_Space_50', 'Area_of_Space_75',\n",
    "       'Area_of_Space_Max', 'Distance_From_Runner_Min',\n",
    "       'Distance_From_Runner_25', 'Distance_From_Runner_50',\n",
    "       'Distance_From_Runner_75', 'Distance_From_Runner_Max']\n",
    "\n",
    "\n",
    "for cat in categorical_col:\n",
    "    final_test[cat] = LabelEncoder().fit_transform(final_test[cat])\n",
    "    \n",
    "scaled_features = StandardScaler().fit_transform(final_test[numerical_col].values)\n",
    "X_num = pd.DataFrame(scaled_features, columns = numerical_col)\n",
    "X_final = pd.concat([X_num, final_test[categorical_col]], axis = 1).to_numpy()"
   ]
  },
  {
   "cell_type": "code",
   "execution_count": 40,
   "id": "de5c5768",
   "metadata": {},
   "outputs": [],
   "source": [
    "X_train, X_val = X_final[0:26007], X_final[-5000:]\n",
    "y_train, y_val = y[0:26007], y[-5000:]"
   ]
  },
  {
   "cell_type": "code",
   "execution_count": 41,
   "id": "e993e971",
   "metadata": {},
   "outputs": [],
   "source": [
    "# Calculate CRPS score\n",
    "def crps_score(y_prediction, y_valid, shape):\n",
    "    y_true = np.clip(np.cumsum(y_valid, axis=1), 0, 1)\n",
    "    y_pred = np.clip(np.cumsum(y_prediction, axis=1), 0, 1)\n",
    "    val_s = ((y_true - y_pred) ** 2).sum(axis=1).sum(axis=0) / (199 * shape)\n",
    "    crps = np.round(val_s, 6)\n",
    "    \n",
    "    return crps"
   ]
  },
  {
   "cell_type": "markdown",
   "id": "3fb8cc67",
   "metadata": {},
   "source": [
    "### Random Forest"
   ]
  },
  {
   "cell_type": "code",
   "execution_count": 43,
   "id": "d5871545",
   "metadata": {},
   "outputs": [
    {
     "name": "stdout",
     "output_type": "stream",
     "text": [
      "Fitting 3 folds for each of 25 candidates, totalling 75 fits\n"
     ]
    },
    {
     "data": {
      "text/plain": [
       "RandomizedSearchCV(cv=3, estimator=RandomForestRegressor(), n_iter=25,\n",
       "                   n_jobs=-1,\n",
       "                   param_distributions={'bootstrap': [True, False],\n",
       "                                        'max_depth': [5, 11, 17, 23, 30, None],\n",
       "                                        'max_features': ['auto', 'sqrt'],\n",
       "                                        'min_samples_leaf': [1, 2, 4],\n",
       "                                        'min_samples_split': [2, 5, 10],\n",
       "                                        'n_estimators': [10, 32, 55, 77, 100]},\n",
       "                   random_state=42, verbose=2)"
      ]
     },
     "execution_count": 43,
     "metadata": {},
     "output_type": "execute_result"
    }
   ],
   "source": [
    "# From https://towardsdatascience.com/hyperparameter-tuning-the-random-forest-in-python-using-scikit-learn-28d2aa77dd74\n",
    "n_estimators = [int(x) for x in np.linspace(start = 10, stop = 100, num = 5)]\n",
    "max_features = ['auto', 'sqrt']\n",
    "max_depth = [int(x) for x in np.linspace(5, 30, num = 5)]\n",
    "max_depth.append(None)\n",
    "min_samples_split = [2, 5, 10]\n",
    "min_samples_leaf = [1, 2, 4]\n",
    "bootstrap = [True, False]\n",
    "grid = {'n_estimators': n_estimators,\n",
    "               'max_features': max_features,\n",
    "               'max_depth': max_depth,\n",
    "               'min_samples_split': min_samples_split,\n",
    "               'min_samples_leaf': min_samples_leaf,\n",
    "               'bootstrap': bootstrap}\n",
    "\n",
    "rf = RandomForestRegressor()\n",
    "rf_random = RandomizedSearchCV(estimator = rf, param_distributions = grid, n_iter = 25, cv = 3, verbose=2, random_state=42, n_jobs = -1)\n",
    "rf_random.fit(X_train, y_train)"
   ]
  },
  {
   "cell_type": "code",
   "execution_count": 44,
   "id": "bed7f540",
   "metadata": {},
   "outputs": [
    {
     "data": {
      "text/plain": [
       "{'n_estimators': 77,\n",
       " 'min_samples_split': 2,\n",
       " 'min_samples_leaf': 1,\n",
       " 'max_features': 'sqrt',\n",
       " 'max_depth': 5,\n",
       " 'bootstrap': False}"
      ]
     },
     "execution_count": 44,
     "metadata": {},
     "output_type": "execute_result"
    }
   ],
   "source": [
    "rf_random.best_params_"
   ]
  },
  {
   "cell_type": "code",
   "execution_count": 272,
   "id": "bf5987d1",
   "metadata": {},
   "outputs": [
    {
     "data": {
      "text/plain": [
       "RandomForestRegressor(bootstrap=False, max_depth=5, max_features='sqrt',\n",
       "                      n_estimators=77)"
      ]
     },
     "execution_count": 272,
     "metadata": {},
     "output_type": "execute_result"
    }
   ],
   "source": [
    "best_rf = RandomForestClassifier(n_estimators = 77, max_depth = 5, min_samples_split = 2, min_samples_leaf = 1,\n",
    "                                max_features = 'sqrt', bootstrap = False)\n",
    "best_rf.fit(X_train, y_train)"
   ]
  },
  {
   "cell_type": "code",
   "execution_count": 275,
   "id": "0075555a",
   "metadata": {},
   "outputs": [
    {
     "data": {
      "text/plain": [
       "0.013523"
      ]
     },
     "execution_count": 275,
     "metadata": {},
     "output_type": "execute_result"
    }
   ],
   "source": [
    "y_pred = best_rf.predict(X_train)\n",
    "rf_crps_train = crps_score(y_pred, y_train, shape=X_train.shape[0])\n",
    "rf_crps_train"
   ]
  },
  {
   "cell_type": "code",
   "execution_count": 274,
   "id": "09babc1d",
   "metadata": {},
   "outputs": [
    {
     "data": {
      "text/plain": [
       "0.013319"
      ]
     },
     "execution_count": 274,
     "metadata": {},
     "output_type": "execute_result"
    }
   ],
   "source": [
    "y_pred = best_rf.predict(X_val)\n",
    "rf_crps_test = crps_score(y_pred, y_val, shape=X_val.shape[0])\n",
    "rf_crps_test"
   ]
  },
  {
   "cell_type": "markdown",
   "id": "69eef310",
   "metadata": {},
   "source": [
    "### Neural Networks"
   ]
  },
  {
   "cell_type": "code",
   "execution_count": 172,
   "id": "7b447904",
   "metadata": {},
   "outputs": [
    {
     "name": "stdout",
     "output_type": "stream",
     "text": [
      "WARNING:tensorflow:Model was constructed with shape (None, 26007, 42) for input KerasTensor(type_spec=TensorSpec(shape=(None, 26007, 42), dtype=tf.float32, name='input_33'), name='input_33', description=\"created by layer 'input_33'\"), but it was called on an input with incompatible shape (None, 42).\n",
      "WARNING:tensorflow:Model was constructed with shape (None, 26007, 42) for input KerasTensor(type_spec=TensorSpec(shape=(None, 26007, 42), dtype=tf.float32, name='input_33'), name='input_33', description=\"created by layer 'input_33'\"), but it was called on an input with incompatible shape (None, 42).\n"
     ]
    }
   ],
   "source": [
    "# Used https://machinelearningmastery.com/grid-search-hyperparameters-deep-learning-models-python-keras/\n",
    "def create_model(learning_rate, dropout, dense1, dense2):\n",
    "    \n",
    "    model = Sequential()\n",
    "    model.add(InputLayer(input_shape=(X_train.shape[0], X_train.shape[1])))\n",
    "    model.add(Dense(dense1, activation='relu'))\n",
    "    model.add(Dropout(dropout))\n",
    "    model.add(Dense(dense2, activation='relu'))\n",
    "    model.add(Dropout(dropout))\n",
    "    model.add(Dense(199, activation='softmax'))\n",
    "    model.compile(loss=categorical_crossentropy,\n",
    "                  optimizer=Adam(lr=learning_rate),\n",
    "                  metrics=['acc'])\n",
    "    return model\n",
    "\n",
    "model = KerasClassifier(build_fn=create_model, verbose=0)\n",
    "dense1 = [612, 1224, 2448]\n",
    "dense2 = [306, 612, 1024]\n",
    "epochs = [5, 10, 15]\n",
    "dropout = [0.4, 0.5, 0.6]\n",
    "learning_rate = [0.01, 0.001, 0.0001]\n",
    "\n",
    "grid = dict(dense1=dense1, dense2=dense2, epochs=epochs,\n",
    "                  dropout=dropout, learning_rate=learning_rate)\n",
    "\n",
    "nn_grid = GridSearchCV(estimator=model, param_grid=grid, n_jobs=-1, cv=3)\n",
    "nn_result = nn_grid.fit(X_train, y_train)"
   ]
  },
  {
   "cell_type": "code",
   "execution_count": 173,
   "id": "b46a2a13",
   "metadata": {},
   "outputs": [
    {
     "data": {
      "text/plain": [
       "{'dense1': 1024,\n",
       " 'dense2': 612,\n",
       " 'dropout': 0.5,\n",
       " 'epochs': 15,\n",
       " 'learning_rate': 0.001}"
      ]
     },
     "execution_count": 173,
     "metadata": {},
     "output_type": "execute_result"
    }
   ],
   "source": [
    "nn_result.best_params_"
   ]
  },
  {
   "cell_type": "code",
   "execution_count": 276,
   "id": "c1f7dc3e",
   "metadata": {},
   "outputs": [
    {
     "name": "stdout",
     "output_type": "stream",
     "text": [
      "Epoch 1/15\n",
      "WARNING:tensorflow:Model was constructed with shape (None, 26007, 42) for input KerasTensor(type_spec=TensorSpec(shape=(None, 26007, 42), dtype=tf.float32, name='input_43'), name='input_43', description=\"created by layer 'input_43'\"), but it was called on an input with incompatible shape (None, 42).\n",
      "WARNING:tensorflow:Model was constructed with shape (None, 26007, 42) for input KerasTensor(type_spec=TensorSpec(shape=(None, 26007, 42), dtype=tf.float32, name='input_43'), name='input_43', description=\"created by layer 'input_43'\"), but it was called on an input with incompatible shape (None, 42).\n",
      "204/204 [==============================] - 4s 17ms/step - loss: 3.6562 - acc: 0.1018\n",
      "Epoch 2/15\n",
      "204/204 [==============================] - 3s 15ms/step - loss: 2.9576 - acc: 0.1264\n",
      "Epoch 3/15\n",
      "204/204 [==============================] - 3s 16ms/step - loss: 2.8990 - acc: 0.1265\n",
      "Epoch 4/15\n",
      "204/204 [==============================] - 4s 20ms/step - loss: 2.8650 - acc: 0.1298\n",
      "Epoch 5/15\n",
      "204/204 [==============================] - 4s 19ms/step - loss: 2.8563 - acc: 0.1362\n",
      "Epoch 6/15\n",
      "204/204 [==============================] - 4s 18ms/step - loss: 2.8308 - acc: 0.1380\n",
      "Epoch 7/15\n",
      "204/204 [==============================] - 4s 22ms/step - loss: 2.8293 - acc: 0.1332\n",
      "Epoch 8/15\n",
      "204/204 [==============================] - 4s 19ms/step - loss: 2.8165 - acc: 0.1393\n",
      "Epoch 9/15\n",
      "204/204 [==============================] - 4s 20ms/step - loss: 2.8022 - acc: 0.1408\n",
      "Epoch 10/15\n",
      "204/204 [==============================] - 5s 22ms/step - loss: 2.8062 - acc: 0.1447\n",
      "Epoch 11/15\n",
      "204/204 [==============================] - 5s 22ms/step - loss: 2.7914 - acc: 0.1426\n",
      "Epoch 12/15\n",
      "204/204 [==============================] - 4s 19ms/step - loss: 2.7900 - acc: 0.1387\n",
      "Epoch 13/15\n",
      "204/204 [==============================] - 4s 19ms/step - loss: 2.7867 - acc: 0.1405\n",
      "Epoch 14/15\n",
      "204/204 [==============================] - 4s 21ms/step - loss: 2.7708 - acc: 0.1477\n",
      "Epoch 15/15\n",
      "204/204 [==============================] - 3s 17ms/step - loss: 2.7766 - acc: 0.1408\n"
     ]
    },
    {
     "data": {
      "text/plain": [
       "<tensorflow.python.keras.callbacks.History at 0x164552470>"
      ]
     },
     "execution_count": 276,
     "metadata": {},
     "output_type": "execute_result"
    }
   ],
   "source": [
    "model = Sequential()\n",
    "model.add(InputLayer(input_shape=(X_train.shape[0], X_train.shape[1])))\n",
    "model.add(Dense(1224, activation='relu'))\n",
    "model.add(Dropout(0.5))\n",
    "model.add(Dense(612, activation='relu'))\n",
    "model.add(Dropout(0.5))\n",
    "model.add(Dense(306, activation='relu'))\n",
    "model.add(Dropout(0.5))\n",
    "model.add(Dense(199, activation='softmax'))\n",
    "model.compile(loss=categorical_crossentropy,\n",
    "              optimizer=Adam(lr=0.001),\n",
    "              metrics=['acc'])\n",
    "model.fit(X_train, y_train,\n",
    "          batch_size=128,\n",
    "          epochs=15,\n",
    "          verbose=1)"
   ]
  },
  {
   "cell_type": "code",
   "execution_count": 279,
   "id": "1f347db2",
   "metadata": {},
   "outputs": [
    {
     "data": {
      "text/plain": [
       "0.012988"
      ]
     },
     "execution_count": 279,
     "metadata": {},
     "output_type": "execute_result"
    }
   ],
   "source": [
    "y_pred = model.predict(X_train)\n",
    "cnn_crps_train = crps_score(y_pred, y_train, shape=X_train.shape[0])\n",
    "cnn_crps_train"
   ]
  },
  {
   "cell_type": "code",
   "execution_count": 280,
   "id": "7d92ee5e",
   "metadata": {},
   "outputs": [
    {
     "data": {
      "text/plain": [
       "0.013309"
      ]
     },
     "execution_count": 280,
     "metadata": {},
     "output_type": "execute_result"
    }
   ],
   "source": [
    "y_pred = model.predict(X_val)\n",
    "cnn_crps_test = crps_score(y_pred, y_val, shape=X_val.shape[0])\n",
    "cnn_crps_test"
   ]
  },
  {
   "cell_type": "markdown",
   "id": "38daa1d2",
   "metadata": {},
   "source": [
    "### Voronoi Diagram\n",
    "- This code was influenced by this link (https://stackoverflow.com/questions/28665491/getting-a-bounded-polygon-coordinates-from-voronoi-cells) to get the areas of a voronoi diagram by bounding the plane"
   ]
  },
  {
   "cell_type": "code",
   "execution_count": 185,
   "id": "68fb7c99",
   "metadata": {},
   "outputs": [
    {
     "data": {
      "image/png": "[encoded data removed]",
      "text/plain": [
       "<Figure size 432x288 with 1 Axes>"
      ]
     },
     "metadata": {
      "needs_background": "light"
     },
     "output_type": "display_data"
    }
   ],
   "source": [
    "import matplotlib.pyplot as pl\n",
    "import numpy as np\n",
    "import scipy as sp\n",
    "import scipy.spatial\n",
    "import sys\n",
    "\n",
    "eps = sys.float_info.epsilon\n",
    "df = train[train['PlayId'] == 20170907000118]\n",
    "towers = np.array(df[['X', 'Y']])\n",
    "value = 0.1\n",
    "bounding_box = np.array([df['X'].min()-(value), df['X'].max()+(value)+0.001, df['Y'].min()-(value) , df['Y'].max()+(value)])\n",
    "\n",
    "points_center = towers.copy()\n",
    "points_left = np.copy(points_center)\n",
    "points_left[:, 0] = bounding_box[0] - (points_left[:, 0] - bounding_box[0])\n",
    "points_right = np.copy(points_center)\n",
    "points_right[:, 0] = bounding_box[1] + (bounding_box[1] - points_right[:, 0])\n",
    "points_down = np.copy(points_center)\n",
    "points_down[:, 1] = bounding_box[2] - (points_down[:, 1] - bounding_box[2])\n",
    "points_up = np.copy(points_center)\n",
    "points_up[:, 1] = bounding_box[3] + (bounding_box[3] - points_up[:, 1])\n",
    "points = np.append(points_center,\n",
    "                   np.append(np.append(points_left,\n",
    "                                       points_right,\n",
    "                                       axis=0),\n",
    "                             np.append(points_down,\n",
    "                                       points_up,\n",
    "                                       axis=0),\n",
    "                             axis=0),\n",
    "                   axis=0)\n",
    "# Compute Voronoi\n",
    "vor = scipy.spatial.Voronoi(points)\n",
    "\n",
    "# Filter regions\n",
    "regions = []\n",
    "for region in vor.regions:\n",
    "    flag = True\n",
    "    for index in region:\n",
    "        if index == -1:\n",
    "            flag = False\n",
    "            break\n",
    "        else:\n",
    "            x = vor.vertices[index, 0]\n",
    "            y = vor.vertices[index, 1]\n",
    "            if not(bounding_box[0] - eps <= x and x <= bounding_box[1] + eps and\n",
    "                   bounding_box[2] - eps <= y and y <= bounding_box[3] + eps):\n",
    "                flag = False\n",
    "                break\n",
    "    if region != [] and flag:\n",
    "        regions.append(region)\n",
    "\n",
    "vor.filtered_points = points_center\n",
    "vor.filtered_regions = regions\n",
    "\n",
    "fig = pl.figure()\n",
    "ax = fig.gca()\n",
    "# Plot initial points\n",
    "ax.plot(vor.filtered_points[:, 0], vor.filtered_points[:, 1], 'b.')\n",
    "# Plot ridges points\n",
    "for region in vor.filtered_regions:\n",
    "    vertices = vor.vertices[region, :]\n",
    "    ax.plot(vertices[:, 0], vertices[:, 1], 'go')\n",
    "# Plot ridges\n",
    "for region in vor.filtered_regions:\n",
    "    vertices = vor.vertices[region + [region[0]], :]\n",
    "    ax.plot(vertices[:, 0], vertices[:, 1], 'k-')"
   ]
  },
  {
   "cell_type": "markdown",
   "id": "a70d363d",
   "metadata": {},
   "source": [
    "### References"
   ]
  },
  {
   "cell_type": "markdown",
   "id": "c34845b2",
   "metadata": {},
   "source": [
    "- https://stackoverflow.com/questions/24467972/calculate-area-of-polygon-given-x-y-coordinates\n",
    "- https://stackoverflow.com/questions/28665491/getting-a-bounded-polygon-coordinates-from-voronoi-cells\n",
    "- https://www.kaggle.com/cpmpml/initial-wrangling-voronoi-areas-in-python\n",
    "- https://www.kaggle.com/statsbymichaellopez/nfl-tracking-wrangling-voronoi-and-sonars\n",
    "- https://towardsdatascience.com/hyperparameter-tuning-the-random-forest-in-python-using-scikit-learn-28d2aa77dd74\n",
    "- https://machinelearningmastery.com/grid-search-hyperparameters-deep-learning-models-python-keras/"
   ]
  },
  {
   "cell_type": "code",
   "execution_count": null,
   "id": "9dea1059",
   "metadata": {},
   "outputs": [],
   "source": []
  }
 ],
 "metadata": {
  "kernelspec": {
   "display_name": "Python 3",
   "language": "python",
   "name": "python3"
  },
  "language_info": {
   "codemirror_mode": {
    "name": "ipython",
    "version": 3
   },
   "file_extension": ".py",
   "mimetype": "text/x-python",
   "name": "python",
   "nbconvert_exporter": "python",
   "pygments_lexer": "ipython3",
   "version": "3.7.0"
  }
 },
 "nbformat": 4,
 "nbformat_minor": 5
}
